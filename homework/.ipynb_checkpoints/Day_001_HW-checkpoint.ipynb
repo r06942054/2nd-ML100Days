{
 "cells": [
  {
   "cell_type": "markdown",
   "metadata": {},
   "source": [
    "# Day1"
   ]
  },
  {
   "attachments": {},
   "cell_type": "markdown",
   "metadata": {},
   "source": [
    "作業1 :\n",
    "\n",
    "請上 Kaggle, 在 Competitions 或 Dataset 中找一組競賽或資料並寫下：\n",
    "https://www.kaggle.com/c/two-sigma-financial-news/overview\n",
    "\n",
    "1. 你選的這組資料為何重要\n",
    "希望使用新聞的內容來分析股票的價格，使使用者可以利用這組資料做出更好的投資決定。\n",
    "幫助預測財務結果並在全世界產生重大的經濟影響。\n",
    "\n",
    "2. 資料從何而來 (tips: 譬如提供者是誰、以什麼方式蒐集)\n",
    "Market data provided by Intrinio.\n",
    "News data provided by Thomson Reuters.\n",
    "\n",
    "3. 蒐集而來的資料型態為何\n",
    "\n",
    "    time(datetime64[ns, UTC]) - the current time (in marketdata, all rows are taken at 22:00 UTC)\n",
    "    \n",
    "    assetCode(object) - a unique id of an asset\n",
    "    \n",
    "    assetName(category) - the name that corresponds to a group of assetCodes. These may be \"Unknown\" if the corresponding assetCode does not have any rows in the news data.\n",
    "    \n",
    "    universe(float64) - a boolean indicating whether or not the instrument on that day will be included in scoring. This value is not provided outside of the training data time period. The trading universe on a given date is the set of instruments that are avilable for trading (the scoring function will not consider instruments that are not in the trading universe). The trading universe changes daily.\n",
    "    \n",
    "    volume(float64) - trading volume in shares for the day\n",
    "    \n",
    "    close(float64) - the close price for the day (not adjusted for splits or dividends)\n",
    "    \n",
    "    open(float64) - the open price for the day (not adjusted for splits or dividends)\n",
    "    \n",
    "    returnsClosePrevRaw1(float64) - see returns explanation above\n",
    "    \n",
    "    returnsOpenPrevRaw1(float64) - see returns explanation above\n",
    "    \n",
    "    returnsClosePrevMktres1(float64) - see returns explanation above\n",
    "    \n",
    "    returnsOpenPrevMktres1(float64) - see returns explanation above\n",
    "    \n",
    "    returnsClosePrevRaw10(float64) - see returns explanation above\n",
    "    \n",
    "    returnsOpenPrevRaw10(float64) - see returns explanation above\n",
    "    \n",
    "    returnsClosePrevMktres10(float64) - see returns explanation above\n",
    "    \n",
    "    returnsOpenPrevMktres10(float64) - see returns explanation above\n",
    "    \n",
    "    returnsOpenNextMktres10(float64) - 10 day, market-residualized return. This is the target variable used in competition scoring. The market data has been filtered such that returnsOpenNextMktres10 is always not null.\n",
    "\n",
    "4. 這組資料想解決的問題如何評估\n",
    "    \n",
    "    For each day in the evaluation time period, we calculate:\n",
    "    $x_t = \\sum_i \\hat{y}_{ti}  r_{ti}  u_{ti}$, where rti is the 10-day market-adjusted leading return for day t for instrument i, and uti is a 0/1 universe variable (see the data description for details) that controls whether a particular asset is included in scoring on a particular day.\n",
    "    \n",
    "    Your submission score is then calculated as the mean divided by the standard deviation of your daily xt values:\n",
    "    \n",
    "    $score = \\frac{\\bar{x}_t}{\\sigma(x_t)}$.\n",
    "    If the standard deviation of predictions is 0, the score is defined as 0.\n",
    "    \n",
    "\n"
   ]
  },
  {
   "cell_type": "markdown",
   "metadata": {},
   "source": [
    "作業2：\n",
    "\n",
    "想像你經營一個自由載客車隊，你希望能透過數據分析以提升業績，請你思考並描述你如何規劃整體的分析/解決方案：\n",
    "1. 核心問題為何 (tips：如何定義 「提升業績 & 你的假設」)\n",
    "    在固定的工時下，若載客空檔越短越少，可以最大化利潤\n",
    "    因此要利用數據分析能夠使司機空檔減少\n",
    "    or \n",
    "    供少於求時漲價，供多於求時降價\n",
    "    利用數據分析找出哪些時段的哪些區域需求人數，並找出利潤公式以調整里程價格\n",
    "    \n",
    "2. 資料從何而來 (tips：哪些資料可能會對你想問的問題產生影響 & 資料如何蒐集)\n",
    "\n",
    "    由車上系統紀錄，或由司機手動紀錄\n",
    "\n",
    "3. 蒐集而來的資料型態為何\n",
    "\n",
    "    結構化資料，其中應當包含:上車時間、上車地點、下車時間、下車地點、消費金額、里程數、搭乘人數、顧客評分\n",
    "\n",
    "4. 你要回答的問題，其如何評估 (tips：你的假設如何驗證)\n",
    "\n",
    "    取決於不同的公式，若計價公式是 低消 + 每里程價 * 里程數 * 【浮動比例】\n",
    "    則可以利用歷史的數據去調整今日不同時段的浮動比例。\n",
    "    可以先分割資料(training跟validation)，利用training資料找出各個時段的浮動比例(N個model)後，在將其apply到validation data上，並選出最好的model\n"
   ]
  },
  {
   "cell_type": "markdown",
   "metadata": {},
   "source": [
    "## 練習時間\n",
    "#### 請寫一個函式用來計算 Mean Square Error\n",
    "$ MSE = \\frac{1}{n}\\sum_{i=1}^{n}{(Y_i - \\hat{Y}_i)^2} $\n",
    "\n",
    "### Hint: [如何取平方](https://googoodesign.gitbooks.io/-ezpython/unit-1.html)"
   ]
  },
  {
   "cell_type": "code",
   "execution_count": 1,
   "metadata": {},
   "outputs": [],
   "source": [
    "import numpy as np\n",
    "import matplotlib.pyplot as plt"
   ]
  },
  {
   "cell_type": "code",
   "execution_count": 8,
   "metadata": {},
   "outputs": [],
   "source": [
    "def mean_squared_error(y, yp):\n",
    "    \"\"\"\n",
    "    計算 MAE\n",
    "    Args:\n",
    "        - y: 實際值\n",
    "        - yp: 預測值\n",
    "    Return:\n",
    "        - mae: MAE\n",
    "    \"\"\"\n",
    "    mse = sum((y - yp) ** 2) / len(y)\n",
    "    return mse\n"
   ]
  },
  {
   "cell_type": "code",
   "execution_count": 6,
   "metadata": {},
   "outputs": [],
   "source": [
    "def mean_absolute_error(y, yp):\n",
    "    \"\"\"\n",
    "    計算 MAE\n",
    "    Args:\n",
    "        - y: 實際值\n",
    "        - yp: 預測值\n",
    "    Return:\n",
    "        - mae: MAE\n",
    "    \"\"\"\n",
    "    mae = MAE = sum(abs(y - yp)) / len(y)\n",
    "    return mae"
   ]
  },
  {
   "cell_type": "code",
   "execution_count": 3,
   "metadata": {},
   "outputs": [
    {
     "data": {
      "image/png": "[encoded data removed]",
      "text/plain": [
       "<matplotlib.figure.Figure at 0x184c0d3c048>"
      ]
     },
     "metadata": {},
     "output_type": "display_data"
    }
   ],
   "source": [
    "w = 3\n",
    "b = 0.5\n",
    "\n",
    "x_lin = np.linspace(0, 100, 101)\n",
    "\n",
    "y = (x_lin + np.random.randn(101) * 5) * w + b\n",
    "\n",
    "plt.plot(x_lin, y, 'b.', label = 'data points')\n",
    "plt.title(\"Assume we have data points\")\n",
    "plt.legend(loc = 2)\n",
    "plt.show()"
   ]
  },
  {
   "cell_type": "code",
   "execution_count": 4,
   "metadata": {},
   "outputs": [
    {
     "data": {
      "image/png": "[encoded data removed]",
      "text/plain": [
       "<matplotlib.figure.Figure at 0x184c0d38668>"
      ]
     },
     "metadata": {},
     "output_type": "display_data"
    }
   ],
   "source": [
    "y_hat = x_lin * w + b\n",
    "plt.plot(x_lin, y, 'b.', label = 'data')\n",
    "plt.plot(x_lin, y_hat, 'r-', label = 'prediction')\n",
    "plt.title(\"Assume we have data points (And the prediction)\")\n",
    "plt.legend(loc = 2)\n",
    "plt.show()"
   ]
  },
  {
   "cell_type": "code",
   "execution_count": 9,
   "metadata": {},
   "outputs": [
    {
     "name": "stdout",
     "output_type": "stream",
     "text": [
      "The Mean squared error is 239.650\n",
      "The Mean absolute error is 12.304\n"
     ]
    }
   ],
   "source": [
    "# 執行 Function, 確認有沒有正常執行\n",
    "MSE = mean_squared_error(y, y_hat)\n",
    "MAE = mean_absolute_error(y, y_hat)\n",
    "print(\"The Mean squared error is %.3f\" % (MSE))\n",
    "print(\"The Mean absolute error is %.3f\" % (MAE))"
   ]
  },
  {
   "cell_type": "code",
   "execution_count": null,
   "metadata": {},
   "outputs": [],
   "source": []
  }
 ],
 "metadata": {
  "anaconda-cloud": {},
  "kernelspec": {
   "display_name": "Python 3",
   "language": "python",
   "name": "python3"
  },
  "language_info": {
   "codemirror_mode": {
    "name": "ipython",
    "version": 3
   },
   "file_extension": ".py",
   "mimetype": "text/x-python",
   "name": "python",
   "nbconvert_exporter": "python",
   "pygments_lexer": "ipython3",
   "version": "3.6.4"
  }
 },
 "nbformat": 4,
 "nbformat_minor": 1
}
